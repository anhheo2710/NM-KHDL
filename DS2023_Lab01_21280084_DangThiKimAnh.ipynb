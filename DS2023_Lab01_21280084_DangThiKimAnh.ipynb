{
  "nbformat": 4,
  "nbformat_minor": 0,
  "metadata": {
    "colab": {
      "provenance": []
    },
    "kernelspec": {
      "name": "python3",
      "display_name": "Python 3"
    },
    "language_info": {
      "name": "python"
    }
  },
  "cells": [
    {
      "cell_type": "code",
      "execution_count": null,
      "metadata": {
        "colab": {
          "base_uri": "https://localhost:8080/"
        },
        "id": "nXJ_K5MB-H4B",
        "outputId": "35adfa3a-1b4d-4742-8462-c6331f8307de"
      },
      "outputs": [
        {
          "output_type": "stream",
          "name": "stdout",
          "text": [
            "Please enter your name: Kim Anh\n",
            "Please enter your age: 19\n",
            "Hello Kim Anh, you are 19 years old!\n"
          ]
        }
      ],
      "source": [
        "\"\"\"\n",
        "Introduction to Data Science\n",
        "Programming Exercise: 01\n",
        "Name: Dang Thi Kim Anh\n",
        "Student ID: 21280084\n",
        "\"\"\"\n",
        "\n",
        "# Q1:\n",
        "name = input(\"Please enter your name: \")\n",
        "age = input(\"Please enter your age: \")\n",
        "print(\"Hello \" + name + \", you are \" + age + \" years old!\")\n",
        "\n"
      ]
    },
    {
      "cell_type": "code",
      "source": [
        "# Q2:\n",
        "num = input(\"Please enter number: \")\n",
        "if int(num) % 2 == 0:\n",
        "  print(str(num) + \" is even.\")\n",
        "else:\n",
        "    print(str(num) + \" is odd.\")"
      ],
      "metadata": {
        "id": "iUUqzlZqUQk5",
        "colab": {
          "base_uri": "https://localhost:8080/"
        },
        "outputId": "83bdcf84-2083-4621-acb8-cb783ecfddaa"
      },
      "execution_count": null,
      "outputs": [
        {
          "output_type": "stream",
          "name": "stdout",
          "text": [
            "Please enter number: 15\n",
            "15 is odd.\n"
          ]
        }
      ]
    },
    {
      "cell_type": "code",
      "source": [
        "\n",
        "# Q3:\n",
        "for x in range(1, 11):\n",
        "  print(x)\n"
      ],
      "metadata": {
        "id": "W058JIiWORbn",
        "colab": {
          "base_uri": "https://localhost:8080/"
        },
        "outputId": "a7ad8dac-e971-4302-d128-b8f802719957"
      },
      "execution_count": null,
      "outputs": [
        {
          "output_type": "stream",
          "name": "stdout",
          "text": [
            "1\n",
            "2\n",
            "3\n",
            "4\n",
            "5\n",
            "6\n",
            "7\n",
            "8\n",
            "9\n",
            "10\n"
          ]
        }
      ]
    },
    {
      "cell_type": "code",
      "source": [
        "# Q4: \n",
        "num = int(input(\"Please enter number: \"))\n",
        "if num % 2 == 0:\n",
        "  for x in range(0, num + 1, 2):\n",
        "    print(x)\n",
        "else:\n",
        "  for x in range(0, num, 2):\n",
        "    print(x)"
      ],
      "metadata": {
        "id": "oRTcHg9oDgim",
        "colab": {
          "base_uri": "https://localhost:8080/"
        },
        "outputId": "2df6f808-5065-4b4b-d6bd-7651b26bff83"
      },
      "execution_count": null,
      "outputs": [
        {
          "output_type": "stream",
          "name": "stdout",
          "text": [
            "Please enter number: 12\n",
            "0\n",
            "2\n",
            "4\n",
            "6\n",
            "8\n",
            "10\n",
            "12\n"
          ]
        }
      ]
    },
    {
      "cell_type": "code",
      "source": [
        "# Q5: \n",
        "numbers = [5, 1, 7, 7, 8, 10, -2, 6, 8, 9, -5, 11, 20]\n",
        "print(numbers[-5:])"
      ],
      "metadata": {
        "id": "zTLsG7vXDlHW",
        "colab": {
          "base_uri": "https://localhost:8080/"
        },
        "outputId": "ca53fc49-20c5-4285-cd2e-2039061c7f03"
      },
      "execution_count": null,
      "outputs": [
        {
          "output_type": "stream",
          "name": "stdout",
          "text": [
            "[8, 9, -5, 11, 20]\n"
          ]
        }
      ]
    },
    {
      "cell_type": "code",
      "source": [
        "# Q6:\n",
        "numbers = list(range(1, 11))\n",
        "even_numbers = [x for x in numbers if x % 2 == 0]\n",
        "print(even_numbers)\n"
      ],
      "metadata": {
        "id": "VqmitFImDmM1",
        "colab": {
          "base_uri": "https://localhost:8080/"
        },
        "outputId": "4481d18a-ec6c-4a46-a2e4-9ba693d1e2f2"
      },
      "execution_count": null,
      "outputs": [
        {
          "output_type": "stream",
          "name": "stdout",
          "text": [
            "[2, 4, 6, 8, 10]\n"
          ]
        }
      ]
    },
    {
      "cell_type": "code",
      "source": [
        "# Q7:\n",
        "name_to_age = {'John': 19, \n",
        "                'Tom': 15, \n",
        "                'James': 30, \n",
        "                'Danny': 18, \n",
        "                'Lisa': 19, \n",
        "                'Rose': 17, \n",
        "                'Jisoo': 16, \n",
        "                'Jennie': 20}\n",
        "new_name_to_age = name_to_age\n",
        "names = list(name_to_age.keys())\n",
        "ages = list(name_to_age.values())\n",
        "for x in ages:\n",
        "  if x <= 18:\n",
        "    pos = ages.index(x)\n",
        "    key = names[pos]\n",
        "    new_name_to_age.pop(key)\n",
        "print(new_name_to_age)\n"
      ],
      "metadata": {
        "id": "oGAasSqyDqse",
        "colab": {
          "base_uri": "https://localhost:8080/"
        },
        "outputId": "a0bb388c-5162-40d7-8c3e-8a5b151b6182"
      },
      "execution_count": null,
      "outputs": [
        {
          "output_type": "stream",
          "name": "stdout",
          "text": [
            "{'John': 19, 'James': 30, 'Lisa': 19, 'Jennie': 20}\n"
          ]
        }
      ]
    },
    {
      "cell_type": "code",
      "source": [
        "# Q8:\n",
        "def calc_sum(nums):\n",
        "  sum = 0\n",
        "  for i in nums:\n",
        "    sum += i\n",
        "  return sum\n",
        "  \n",
        "nums = [5, 3, -2, 4, -1]\n",
        "calc_sum(nums)"
      ],
      "metadata": {
        "colab": {
          "base_uri": "https://localhost:8080/"
        },
        "id": "eRiPcw0IDr03",
        "outputId": "865d9da5-cd80-462f-a703-58c61da1f604"
      },
      "execution_count": null,
      "outputs": [
        {
          "output_type": "execute_result",
          "data": {
            "text/plain": [
              "9"
            ]
          },
          "metadata": {},
          "execution_count": 21
        }
      ]
    },
    {
      "cell_type": "code",
      "source": [
        "# Q9:\n",
        "def count_char_freq(input_string):\n",
        "  freq_dict = {}\n",
        "  for char in input_string:\n",
        "    if char in freq_dict:\n",
        "      freq_dict[char] += 1\n",
        "    else:\n",
        "      freq_dict[char] = 1\n",
        "  print(str(freq_dict))\n",
        "\n",
        "string = \"abcaccdefeef\"\n",
        "char_freq = count_char_freq(string)"
      ],
      "metadata": {
        "colab": {
          "base_uri": "https://localhost:8080/"
        },
        "id": "yjYfvyApFMas",
        "outputId": "eb0b7840-e538-4148-8bee-e52dd123cbe3"
      },
      "execution_count": null,
      "outputs": [
        {
          "output_type": "stream",
          "name": "stdout",
          "text": [
            "{'a': 2, 'b': 1, 'c': 3, 'd': 1, 'e': 3, 'f': 2}\n"
          ]
        }
      ]
    },
    {
      "cell_type": "code",
      "source": [
        "# Q10:\n",
        "import pandas as pd\n",
        "import numpy as np\n",
        "from matplotlib import style\n",
        "from matplotlib import pyplot as plt\n",
        "from google.colab import drive \n",
        "drive.mount('/content/gdrive')\n",
        "df = pd.read_csv('/content/gdrive/MyDrive/netflix_titles.csv')\n",
        "print(df.head(10))"
      ],
      "metadata": {
        "colab": {
          "base_uri": "https://localhost:8080/"
        },
        "id": "zZ3rodp2Ms9D",
        "outputId": "943092da-01eb-474a-89ce-5978a8197530"
      },
      "execution_count": null,
      "outputs": [
        {
          "output_type": "stream",
          "name": "stdout",
          "text": [
            "Drive already mounted at /content/gdrive; to attempt to forcibly remount, call drive.mount(\"/content/gdrive\", force_remount=True).\n",
            "  show_id     type                             title  \\\n",
            "0      s1    Movie              Dick Johnson Is Dead   \n",
            "1      s2  TV Show                     Blood & Water   \n",
            "2      s3  TV Show                         Ganglands   \n",
            "3      s4  TV Show             Jailbirds New Orleans   \n",
            "4      s5  TV Show                      Kota Factory   \n",
            "5      s6  TV Show                     Midnight Mass   \n",
            "6      s7    Movie  My Little Pony: A New Generation   \n",
            "7      s8    Movie                           Sankofa   \n",
            "8      s9  TV Show     The Great British Baking Show   \n",
            "9     s10    Movie                      The Starling   \n",
            "\n",
            "                        director  \\\n",
            "0                Kirsten Johnson   \n",
            "1                            NaN   \n",
            "2                Julien Leclercq   \n",
            "3                            NaN   \n",
            "4                            NaN   \n",
            "5                  Mike Flanagan   \n",
            "6  Robert Cullen, José Luis Ucha   \n",
            "7                   Haile Gerima   \n",
            "8                Andy Devonshire   \n",
            "9                 Theodore Melfi   \n",
            "\n",
            "                                                cast  \\\n",
            "0                                                NaN   \n",
            "1  Ama Qamata, Khosi Ngema, Gail Mabalane, Thaban...   \n",
            "2  Sami Bouajila, Tracy Gotoas, Samuel Jouy, Nabi...   \n",
            "3                                                NaN   \n",
            "4  Mayur More, Jitendra Kumar, Ranjan Raj, Alam K...   \n",
            "5  Kate Siegel, Zach Gilford, Hamish Linklater, H...   \n",
            "6  Vanessa Hudgens, Kimiko Glenn, James Marsden, ...   \n",
            "7  Kofi Ghanaba, Oyafunmike Ogunlano, Alexandra D...   \n",
            "8  Mel Giedroyc, Sue Perkins, Mary Berry, Paul Ho...   \n",
            "9  Melissa McCarthy, Chris O'Dowd, Kevin Kline, T...   \n",
            "\n",
            "                                             country          date_added  \\\n",
            "0                                      United States  September 25, 2021   \n",
            "1                                       South Africa  September 24, 2021   \n",
            "2                                                NaN  September 24, 2021   \n",
            "3                                                NaN  September 24, 2021   \n",
            "4                                              India  September 24, 2021   \n",
            "5                                                NaN  September 24, 2021   \n",
            "6                                                NaN  September 24, 2021   \n",
            "7  United States, Ghana, Burkina Faso, United Kin...  September 24, 2021   \n",
            "8                                     United Kingdom  September 24, 2021   \n",
            "9                                      United States  September 24, 2021   \n",
            "\n",
            "   release_year rating   duration  \\\n",
            "0          2020  PG-13     90 min   \n",
            "1          2021  TV-MA  2 Seasons   \n",
            "2          2021  TV-MA   1 Season   \n",
            "3          2021  TV-MA   1 Season   \n",
            "4          2021  TV-MA  2 Seasons   \n",
            "5          2021  TV-MA   1 Season   \n",
            "6          2021     PG     91 min   \n",
            "7          1993  TV-MA    125 min   \n",
            "8          2021  TV-14  9 Seasons   \n",
            "9          2021  PG-13    104 min   \n",
            "\n",
            "                                           listed_in  \\\n",
            "0                                      Documentaries   \n",
            "1    International TV Shows, TV Dramas, TV Mysteries   \n",
            "2  Crime TV Shows, International TV Shows, TV Act...   \n",
            "3                             Docuseries, Reality TV   \n",
            "4  International TV Shows, Romantic TV Shows, TV ...   \n",
            "5                 TV Dramas, TV Horror, TV Mysteries   \n",
            "6                           Children & Family Movies   \n",
            "7   Dramas, Independent Movies, International Movies   \n",
            "8                       British TV Shows, Reality TV   \n",
            "9                                   Comedies, Dramas   \n",
            "\n",
            "                                         description  \n",
            "0  As her father nears the end of his life, filmm...  \n",
            "1  After crossing paths at a party, a Cape Town t...  \n",
            "2  To protect his family from a powerful drug lor...  \n",
            "3  Feuds, flirtations and toilet talk go down amo...  \n",
            "4  In a city of coaching centers known to train I...  \n",
            "5  The arrival of a charismatic young priest brin...  \n",
            "6  Equestria's divided. But a bright-eyed hero be...  \n",
            "7  On a photo shoot in Ghana, an American model s...  \n",
            "8  A talented batch of amateur bakers face off in...  \n",
            "9  A woman adjusting to life after a loss contend...  \n"
          ]
        }
      ]
    },
    {
      "cell_type": "code",
      "source": [
        "# Q11:\n",
        "df.query(\"type == 'Movie' and release_year < 2020 and release_year > 2016\")"
      ],
      "metadata": {
        "colab": {
          "base_uri": "https://localhost:8080/",
          "height": 1000
        },
        "id": "5Q_omBANa7Ov",
        "outputId": "cfa889b1-134e-4852-c98a-3ab179db5683"
      },
      "execution_count": null,
      "outputs": [
        {
          "output_type": "execute_result",
          "data": {
            "text/plain": [
              "     show_id   type                                              title  \\\n",
              "38       s39  Movie                                Birth of the Dragon   \n",
              "73       s74  Movie                                       King of Boys   \n",
              "90       s91  Movie                                     Paradise Hills   \n",
              "94       s95  Movie                                          Show Dogs   \n",
              "96       s97  Movie  If I Leave Here Tomorrow: A Film About Lynyrd ...   \n",
              "...      ...    ...                                                ...   \n",
              "8756   s8757  Movie                                          Woodstock   \n",
              "8765   s8766  Movie                                                 XX   \n",
              "8774   s8775  Movie                                          يوم الدين   \n",
              "8786   s8787  Movie                                       You Can Tutu   \n",
              "8787   s8788  Movie                          You Can’t Fight Christmas   \n",
              "\n",
              "                                               director  \\\n",
              "38                                         George Nolfi   \n",
              "73                                         Kemi Adetiba   \n",
              "90                                     Alice Waddington   \n",
              "94                                         Raja Gosnell   \n",
              "96                                        Stephen Kijak   \n",
              "...                                                 ...   \n",
              "8756                                      Barak Goodman   \n",
              "8765  Jovanka Vuckovic, Annie Clark, Roxanne Benjami...   \n",
              "8774                                    Abu Bakr Shawky   \n",
              "8786                                        James Brown   \n",
              "8787                                        Kenny Young   \n",
              "\n",
              "                                                   cast  \\\n",
              "38    Billy Magnussen, Ron Yuan, Qu Jingjing, Terry ...   \n",
              "73    Sola Sobowale, Adesua Etomi, Remilekun \"Remini...   \n",
              "90    Emma Roberts, Danielle Macdonald, Awkwafina, E...   \n",
              "94    Will Arnett, Ludacris, Natasha Lyonne, Stanley...   \n",
              "96    Ronnie Van Zandt, Gary Rossington, Allen Colli...   \n",
              "...                                                 ...   \n",
              "8756                                                NaN   \n",
              "8765  Natalie Brown, Jonathan Watton, Melanie Lynske...   \n",
              "8774  Rady Gamal, Ahmed Abdelhafiz, Shahira Fahmy, S...   \n",
              "8786  Lily O'Regan, Jeannettsy Enriquez Borges, Joel...   \n",
              "8787  Brely Evans, Andra Fuller, Persia White, Porsc...   \n",
              "\n",
              "                            country          date_added  release_year rating  \\\n",
              "38     China, Canada, United States  September 16, 2021          2017  PG-13   \n",
              "73                          Nigeria  September 14, 2021          2018  TV-MA   \n",
              "90             Spain, United States   September 9, 2021          2019  TV-MA   \n",
              "94    United Kingdom, United States   September 8, 2021          2018     PG   \n",
              "96                    United States   September 7, 2021          2018  TV-MA   \n",
              "...                             ...                 ...           ...    ...   \n",
              "8756                  United States     August 13, 2019          2019  TV-MA   \n",
              "8765          Canada, United States       June 22, 2017          2017      R   \n",
              "8774  Egypt, Austria, United States    October 22, 2019          2018  TV-14   \n",
              "8786                 United Kingdom   December 31, 2017          2017   TV-G   \n",
              "8787                  United States   December 19, 2017          2017  TV-PG   \n",
              "\n",
              "     duration                                         listed_in  \\\n",
              "38     96 min                        Action & Adventure, Dramas   \n",
              "73    182 min                      Dramas, International Movies   \n",
              "90     95 min                       Sci-Fi & Fantasy, Thrillers   \n",
              "94     90 min                Children & Family Movies, Comedies   \n",
              "96     97 min                   Documentaries, Music & Musicals   \n",
              "...       ...                                               ...   \n",
              "8756   97 min                   Documentaries, Music & Musicals   \n",
              "8765   81 min                                     Horror Movies   \n",
              "8774   97 min  Dramas, Independent Movies, International Movies   \n",
              "8786   87 min                          Children & Family Movies   \n",
              "8787   85 min                         Comedies, Romantic Movies   \n",
              "\n",
              "                                            description  \n",
              "38    A young Bruce Lee angers kung fu traditionalis...  \n",
              "73    When a powerful businesswoman’s political ambi...  \n",
              "90    Uma wakes up in a lush tropical facility desig...  \n",
              "94    A rough and tough police dog must go undercove...  \n",
              "96    Using interviews and archival footage, this do...  \n",
              "...                                                 ...  \n",
              "8756  For the 50th anniversary of the legendary Wood...  \n",
              "8765  This four-part anthology of short horror films...  \n",
              "8774  A man cured of leprosy and a young orphan leav...  \n",
              "8786  A gifted young ballet dancer struggles to find...  \n",
              "8787  After stepping in to revitalize his family's h...  \n",
              "\n",
              "[2167 rows x 12 columns]"
            ],
            "text/html": [
              "\n",
              "  <div id=\"df-d23cc22a-c138-4b25-8f59-1b0863d2fbd9\">\n",
              "    <div class=\"colab-df-container\">\n",
              "      <div>\n",
              "<style scoped>\n",
              "    .dataframe tbody tr th:only-of-type {\n",
              "        vertical-align: middle;\n",
              "    }\n",
              "\n",
              "    .dataframe tbody tr th {\n",
              "        vertical-align: top;\n",
              "    }\n",
              "\n",
              "    .dataframe thead th {\n",
              "        text-align: right;\n",
              "    }\n",
              "</style>\n",
              "<table border=\"1\" class=\"dataframe\">\n",
              "  <thead>\n",
              "    <tr style=\"text-align: right;\">\n",
              "      <th></th>\n",
              "      <th>show_id</th>\n",
              "      <th>type</th>\n",
              "      <th>title</th>\n",
              "      <th>director</th>\n",
              "      <th>cast</th>\n",
              "      <th>country</th>\n",
              "      <th>date_added</th>\n",
              "      <th>release_year</th>\n",
              "      <th>rating</th>\n",
              "      <th>duration</th>\n",
              "      <th>listed_in</th>\n",
              "      <th>description</th>\n",
              "    </tr>\n",
              "  </thead>\n",
              "  <tbody>\n",
              "    <tr>\n",
              "      <th>38</th>\n",
              "      <td>s39</td>\n",
              "      <td>Movie</td>\n",
              "      <td>Birth of the Dragon</td>\n",
              "      <td>George Nolfi</td>\n",
              "      <td>Billy Magnussen, Ron Yuan, Qu Jingjing, Terry ...</td>\n",
              "      <td>China, Canada, United States</td>\n",
              "      <td>September 16, 2021</td>\n",
              "      <td>2017</td>\n",
              "      <td>PG-13</td>\n",
              "      <td>96 min</td>\n",
              "      <td>Action &amp; Adventure, Dramas</td>\n",
              "      <td>A young Bruce Lee angers kung fu traditionalis...</td>\n",
              "    </tr>\n",
              "    <tr>\n",
              "      <th>73</th>\n",
              "      <td>s74</td>\n",
              "      <td>Movie</td>\n",
              "      <td>King of Boys</td>\n",
              "      <td>Kemi Adetiba</td>\n",
              "      <td>Sola Sobowale, Adesua Etomi, Remilekun \"Remini...</td>\n",
              "      <td>Nigeria</td>\n",
              "      <td>September 14, 2021</td>\n",
              "      <td>2018</td>\n",
              "      <td>TV-MA</td>\n",
              "      <td>182 min</td>\n",
              "      <td>Dramas, International Movies</td>\n",
              "      <td>When a powerful businesswoman’s political ambi...</td>\n",
              "    </tr>\n",
              "    <tr>\n",
              "      <th>90</th>\n",
              "      <td>s91</td>\n",
              "      <td>Movie</td>\n",
              "      <td>Paradise Hills</td>\n",
              "      <td>Alice Waddington</td>\n",
              "      <td>Emma Roberts, Danielle Macdonald, Awkwafina, E...</td>\n",
              "      <td>Spain, United States</td>\n",
              "      <td>September 9, 2021</td>\n",
              "      <td>2019</td>\n",
              "      <td>TV-MA</td>\n",
              "      <td>95 min</td>\n",
              "      <td>Sci-Fi &amp; Fantasy, Thrillers</td>\n",
              "      <td>Uma wakes up in a lush tropical facility desig...</td>\n",
              "    </tr>\n",
              "    <tr>\n",
              "      <th>94</th>\n",
              "      <td>s95</td>\n",
              "      <td>Movie</td>\n",
              "      <td>Show Dogs</td>\n",
              "      <td>Raja Gosnell</td>\n",
              "      <td>Will Arnett, Ludacris, Natasha Lyonne, Stanley...</td>\n",
              "      <td>United Kingdom, United States</td>\n",
              "      <td>September 8, 2021</td>\n",
              "      <td>2018</td>\n",
              "      <td>PG</td>\n",
              "      <td>90 min</td>\n",
              "      <td>Children &amp; Family Movies, Comedies</td>\n",
              "      <td>A rough and tough police dog must go undercove...</td>\n",
              "    </tr>\n",
              "    <tr>\n",
              "      <th>96</th>\n",
              "      <td>s97</td>\n",
              "      <td>Movie</td>\n",
              "      <td>If I Leave Here Tomorrow: A Film About Lynyrd ...</td>\n",
              "      <td>Stephen Kijak</td>\n",
              "      <td>Ronnie Van Zandt, Gary Rossington, Allen Colli...</td>\n",
              "      <td>United States</td>\n",
              "      <td>September 7, 2021</td>\n",
              "      <td>2018</td>\n",
              "      <td>TV-MA</td>\n",
              "      <td>97 min</td>\n",
              "      <td>Documentaries, Music &amp; Musicals</td>\n",
              "      <td>Using interviews and archival footage, this do...</td>\n",
              "    </tr>\n",
              "    <tr>\n",
              "      <th>...</th>\n",
              "      <td>...</td>\n",
              "      <td>...</td>\n",
              "      <td>...</td>\n",
              "      <td>...</td>\n",
              "      <td>...</td>\n",
              "      <td>...</td>\n",
              "      <td>...</td>\n",
              "      <td>...</td>\n",
              "      <td>...</td>\n",
              "      <td>...</td>\n",
              "      <td>...</td>\n",
              "      <td>...</td>\n",
              "    </tr>\n",
              "    <tr>\n",
              "      <th>8756</th>\n",
              "      <td>s8757</td>\n",
              "      <td>Movie</td>\n",
              "      <td>Woodstock</td>\n",
              "      <td>Barak Goodman</td>\n",
              "      <td>NaN</td>\n",
              "      <td>United States</td>\n",
              "      <td>August 13, 2019</td>\n",
              "      <td>2019</td>\n",
              "      <td>TV-MA</td>\n",
              "      <td>97 min</td>\n",
              "      <td>Documentaries, Music &amp; Musicals</td>\n",
              "      <td>For the 50th anniversary of the legendary Wood...</td>\n",
              "    </tr>\n",
              "    <tr>\n",
              "      <th>8765</th>\n",
              "      <td>s8766</td>\n",
              "      <td>Movie</td>\n",
              "      <td>XX</td>\n",
              "      <td>Jovanka Vuckovic, Annie Clark, Roxanne Benjami...</td>\n",
              "      <td>Natalie Brown, Jonathan Watton, Melanie Lynske...</td>\n",
              "      <td>Canada, United States</td>\n",
              "      <td>June 22, 2017</td>\n",
              "      <td>2017</td>\n",
              "      <td>R</td>\n",
              "      <td>81 min</td>\n",
              "      <td>Horror Movies</td>\n",
              "      <td>This four-part anthology of short horror films...</td>\n",
              "    </tr>\n",
              "    <tr>\n",
              "      <th>8774</th>\n",
              "      <td>s8775</td>\n",
              "      <td>Movie</td>\n",
              "      <td>يوم الدين</td>\n",
              "      <td>Abu Bakr Shawky</td>\n",
              "      <td>Rady Gamal, Ahmed Abdelhafiz, Shahira Fahmy, S...</td>\n",
              "      <td>Egypt, Austria, United States</td>\n",
              "      <td>October 22, 2019</td>\n",
              "      <td>2018</td>\n",
              "      <td>TV-14</td>\n",
              "      <td>97 min</td>\n",
              "      <td>Dramas, Independent Movies, International Movies</td>\n",
              "      <td>A man cured of leprosy and a young orphan leav...</td>\n",
              "    </tr>\n",
              "    <tr>\n",
              "      <th>8786</th>\n",
              "      <td>s8787</td>\n",
              "      <td>Movie</td>\n",
              "      <td>You Can Tutu</td>\n",
              "      <td>James Brown</td>\n",
              "      <td>Lily O'Regan, Jeannettsy Enriquez Borges, Joel...</td>\n",
              "      <td>United Kingdom</td>\n",
              "      <td>December 31, 2017</td>\n",
              "      <td>2017</td>\n",
              "      <td>TV-G</td>\n",
              "      <td>87 min</td>\n",
              "      <td>Children &amp; Family Movies</td>\n",
              "      <td>A gifted young ballet dancer struggles to find...</td>\n",
              "    </tr>\n",
              "    <tr>\n",
              "      <th>8787</th>\n",
              "      <td>s8788</td>\n",
              "      <td>Movie</td>\n",
              "      <td>You Can’t Fight Christmas</td>\n",
              "      <td>Kenny Young</td>\n",
              "      <td>Brely Evans, Andra Fuller, Persia White, Porsc...</td>\n",
              "      <td>United States</td>\n",
              "      <td>December 19, 2017</td>\n",
              "      <td>2017</td>\n",
              "      <td>TV-PG</td>\n",
              "      <td>85 min</td>\n",
              "      <td>Comedies, Romantic Movies</td>\n",
              "      <td>After stepping in to revitalize his family's h...</td>\n",
              "    </tr>\n",
              "  </tbody>\n",
              "</table>\n",
              "<p>2167 rows × 12 columns</p>\n",
              "</div>\n",
              "      <button class=\"colab-df-convert\" onclick=\"convertToInteractive('df-d23cc22a-c138-4b25-8f59-1b0863d2fbd9')\"\n",
              "              title=\"Convert this dataframe to an interactive table.\"\n",
              "              style=\"display:none;\">\n",
              "        \n",
              "  <svg xmlns=\"http://www.w3.org/2000/svg\" height=\"24px\"viewBox=\"0 0 24 24\"\n",
              "       width=\"24px\">\n",
              "    <path d=\"M0 0h24v24H0V0z\" fill=\"none\"/>\n",
              "    <path d=\"M18.56 5.44l.94 2.06.94-2.06 2.06-.94-2.06-.94-.94-2.06-.94 2.06-2.06.94zm-11 1L8.5 8.5l.94-2.06 2.06-.94-2.06-.94L8.5 2.5l-.94 2.06-2.06.94zm10 10l.94 2.06.94-2.06 2.06-.94-2.06-.94-.94-2.06-.94 2.06-2.06.94z\"/><path d=\"M17.41 7.96l-1.37-1.37c-.4-.4-.92-.59-1.43-.59-.52 0-1.04.2-1.43.59L10.3 9.45l-7.72 7.72c-.78.78-.78 2.05 0 2.83L4 21.41c.39.39.9.59 1.41.59.51 0 1.02-.2 1.41-.59l7.78-7.78 2.81-2.81c.8-.78.8-2.07 0-2.86zM5.41 20L4 18.59l7.72-7.72 1.47 1.35L5.41 20z\"/>\n",
              "  </svg>\n",
              "      </button>\n",
              "      \n",
              "  <style>\n",
              "    .colab-df-container {\n",
              "      display:flex;\n",
              "      flex-wrap:wrap;\n",
              "      gap: 12px;\n",
              "    }\n",
              "\n",
              "    .colab-df-convert {\n",
              "      background-color: #E8F0FE;\n",
              "      border: none;\n",
              "      border-radius: 50%;\n",
              "      cursor: pointer;\n",
              "      display: none;\n",
              "      fill: #1967D2;\n",
              "      height: 32px;\n",
              "      padding: 0 0 0 0;\n",
              "      width: 32px;\n",
              "    }\n",
              "\n",
              "    .colab-df-convert:hover {\n",
              "      background-color: #E2EBFA;\n",
              "      box-shadow: 0px 1px 2px rgba(60, 64, 67, 0.3), 0px 1px 3px 1px rgba(60, 64, 67, 0.15);\n",
              "      fill: #174EA6;\n",
              "    }\n",
              "\n",
              "    [theme=dark] .colab-df-convert {\n",
              "      background-color: #3B4455;\n",
              "      fill: #D2E3FC;\n",
              "    }\n",
              "\n",
              "    [theme=dark] .colab-df-convert:hover {\n",
              "      background-color: #434B5C;\n",
              "      box-shadow: 0px 1px 3px 1px rgba(0, 0, 0, 0.15);\n",
              "      filter: drop-shadow(0px 1px 2px rgba(0, 0, 0, 0.3));\n",
              "      fill: #FFFFFF;\n",
              "    }\n",
              "  </style>\n",
              "\n",
              "      <script>\n",
              "        const buttonEl =\n",
              "          document.querySelector('#df-d23cc22a-c138-4b25-8f59-1b0863d2fbd9 button.colab-df-convert');\n",
              "        buttonEl.style.display =\n",
              "          google.colab.kernel.accessAllowed ? 'block' : 'none';\n",
              "\n",
              "        async function convertToInteractive(key) {\n",
              "          const element = document.querySelector('#df-d23cc22a-c138-4b25-8f59-1b0863d2fbd9');\n",
              "          const dataTable =\n",
              "            await google.colab.kernel.invokeFunction('convertToInteractive',\n",
              "                                                     [key], {});\n",
              "          if (!dataTable) return;\n",
              "\n",
              "          const docLinkHtml = 'Like what you see? Visit the ' +\n",
              "            '<a target=\"_blank\" href=https://colab.research.google.com/notebooks/data_table.ipynb>data table notebook</a>'\n",
              "            + ' to learn more about interactive tables.';\n",
              "          element.innerHTML = '';\n",
              "          dataTable['output_type'] = 'display_data';\n",
              "          await google.colab.output.renderOutput(dataTable, element);\n",
              "          const docLink = document.createElement('div');\n",
              "          docLink.innerHTML = docLinkHtml;\n",
              "          element.appendChild(docLink);\n",
              "        }\n",
              "      </script>\n",
              "    </div>\n",
              "  </div>\n",
              "  "
            ]
          },
          "metadata": {},
          "execution_count": 12
        }
      ]
    }
  ]
}